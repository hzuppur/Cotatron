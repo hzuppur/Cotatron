{
 "cells": [
  {
   "cell_type": "markdown",
   "metadata": {},
   "source": [
    "## Imports"
   ]
  },
  {
   "cell_type": "code",
   "execution_count": 2,
   "metadata": {},
   "outputs": [],
   "source": [
    "import os, pprint\n",
    "import pandas as pd\n",
    "import matplotlib.pyplot as plt \n",
    "import re\n",
    "\n",
    "import wave\n",
    "import contextlib"
   ]
  },
  {
   "cell_type": "markdown",
   "metadata": {},
   "source": [
    "## Metadata preparation "
   ]
  },
  {
   "cell_type": "code",
   "execution_count": null,
   "metadata": {},
   "outputs": [],
   "source": [
    "def get_sent_paths(dataset_path):\n",
    "    # Get only directorys\n",
    "    dataset = [i for i in os.listdir(dataset_path) if os.path.isdir(f\"{dataset_path}/{i}\")]\n",
    "    sent_paths = []\n",
    "    for person in dataset:\n",
    "        sent_paths.append(f\"{dataset_path}/{person}/sentences.csv\")\n",
    "    return sent_paths"
   ]
  },
  {
   "cell_type": "code",
   "execution_count": null,
   "metadata": {},
   "outputs": [],
   "source": [
    "def get_metadata(dataset_path, add_22k=True):\n",
    "    paths = get_sent_paths(dataset_path)\n",
    "    metadata_list = []\n",
    "\n",
    "    for i in paths:\n",
    "        # Add speaker id to the metadata\n",
    "        speaker_id = i.split('/')[-2]\n",
    "        with open(i) as f:\n",
    "            sentences = f.readlines()\n",
    "        metadata_list.extend([f\"{speaker_id}/{row.strip()}|{speaker_id}\" for row in sentences])\n",
    "        \n",
    "    if add_22k:\n",
    "        # Adds -22k.wav to file ends, because the resampler changes the wav file names\n",
    "        metadata_list = [f\"{row.split('.wav')[0]}-22k.wav{row.split('.wav')[1]}\" for row in metadata_list]\n",
    "            \n",
    "    return metadata_list"
   ]
  },
  {
   "cell_type": "code",
   "execution_count": null,
   "metadata": {},
   "outputs": [],
   "source": [
    "def generate_metadata_file(source_path, target_path, file_name):\n",
    "    # Writes the metadata file\n",
    "    metadata_list = get_metadata(source_path)\n",
    "    \n",
    "    with open(f\"{target_path}/{file_name}\", 'w') as f:\n",
    "        f.writelines(f\"{row}\\n\" for row in metadata_list)\n",
    "    \n",
    "generate_metadata_file(\n",
    "    '/gpfs/space/home/zuppur/cotatron/data/preprocessed_v2', \n",
    "    '/gpfs/space/home/zuppur/cotatron/datasets/metadata/', \n",
    "    'estonian_metadata.txt')"
   ]
  },
  {
   "cell_type": "code",
   "execution_count": null,
   "metadata": {},
   "outputs": [],
   "source": [
    "def get_speaker_ids(dataset_path):\n",
    "    # Prints a list of speaker ids for config file\n",
    "    dataset = [i for i in os.listdir(dataset_path) if os.path.isdir(f\"{dataset_path}/{i}\")]\n",
    "    print(dataset)\n",
    "    \n",
    "#get_speaker_ids('/gpfs/space/home/zuppur/cotatron/data/preprocessed_v2/')"
   ]
  },
  {
   "cell_type": "markdown",
   "metadata": {},
   "source": [
    "## wav Lenght"
   ]
  },
  {
   "cell_type": "code",
   "execution_count": 2,
   "metadata": {},
   "outputs": [],
   "source": [
    "def get_wavs(path, result_list):\n",
    "    # Adds path to all wav files to result_list\n",
    "    pattern = re.compile(\"^\\S+.wav$\")\n",
    "    \n",
    "    for file in os.listdir(path):\n",
    "        if os.path.isdir(f\"{path}/{file}\"):\n",
    "            get_wavs(f\"{path}/{file}\", result_list)\n",
    "        elif pattern.match(file):\n",
    "            result_list.append(f\"{path}/{file}\")"
   ]
  },
  {
   "cell_type": "code",
   "execution_count": 3,
   "metadata": {},
   "outputs": [],
   "source": [
    "def get_duration(fname):\n",
    "    with contextlib.closing(wave.open(fname,'r')) as f:\n",
    "        frames = f.getnframes()\n",
    "        rate = f.getframerate()\n",
    "        duration = frames / float(rate)\n",
    "    return duration"
   ]
  },
  {
   "cell_type": "code",
   "execution_count": 4,
   "metadata": {},
   "outputs": [],
   "source": [
    "def get_all_durations(data_path):\n",
    "    path_list = []\n",
    "    get_wavs(data_path, path_list) # adds all wav paths to path_list\n",
    "    \n",
    "    return [get_duration(i) for i in path_list]\n",
    "    \n",
    "#get_all_durations('/gpfs/space/home/zuppur/cotatron/data/preprocessed_v2/')"
   ]
  },
  {
   "cell_type": "code",
   "execution_count": null,
   "metadata": {},
   "outputs": [],
   "source": [
    "durations = get_all_durations('/gpfs/space/home/zuppur/cotatron/data/preprocessed_v2/')\n",
    "durations.sort()\n",
    "\n",
    "for i in range(len(durations)):\n",
    "    if durations[i] > 10:\n",
    "        print(f\"Lenght under 10s proportion is : {round(i/len(durations), 2)}\")\n",
    "        break"
   ]
  },
  {
   "cell_type": "markdown",
   "metadata": {},
   "source": [
    "## Random stuff"
   ]
  },
  {
   "cell_type": "code",
   "execution_count": null,
   "metadata": {},
   "outputs": [],
   "source": [
    "df = pd.read_csv('/gpfs/space/home/zuppur/cotatron/data/cv-corpus-6.1-2020-12-11/et/validated.tsv', delimiter='\\t')\n",
    "df = df.drop(['up_votes', 'down_votes','age','gender','accent','locale','segment'], axis=1)\n",
    "\n",
    "speaker_counts = {}\n",
    "for index, row in df.iterrows():\n",
    "    if row['client_id'] in speaker_counts:\n",
    "        speaker_counts[row['client_id']] += 1\n",
    "    else:\n",
    "        speaker_counts[row['client_id']] = 1\n",
    "\n",
    "commonvoice = speaker_counts"
   ]
  },
  {
   "cell_type": "code",
   "execution_count": null,
   "metadata": {},
   "outputs": [],
   "source": [
    "def speaker_counts(path):\n",
    "    df = pd.read_csv(path, delimiter='|', names=['path','text','speaker'])\n",
    "    speaker_counts = {}\n",
    "\n",
    "    for index, row in df.iterrows():\n",
    "        if row['speaker'] in speaker_counts:\n",
    "            speaker_counts[row['speaker']] += 1\n",
    "        else:\n",
    "            speaker_counts[row['speaker']] = 1\n",
    "\n",
    "    return speaker_counts\n",
    "\n",
    "estonian = speaker_counts('/gpfs/space/home/zuppur/cotatron/datasets/metadata/estonian_metadata.txt')\n",
    "english = speaker_counts('/gpfs/space/home/zuppur/cotatron/datasets/metadata/libritts_train_clean_100_audiopath_text_sid_shorterthan10s_atleast5min_train_filelist_22k.txt')"
   ]
  },
  {
   "cell_type": "code",
   "execution_count": null,
   "metadata": {},
   "outputs": [],
   "source": [
    "def plot_counts(counts, label):\n",
    "    counts = list(counts.values())\n",
    "    counts.sort()\n",
    "    \n",
    "    fig = plt.figure()\n",
    "    ax = fig.add_axes([0,0,1,1])\n",
    "    ax.bar([i for i in range(len(counts))],counts)\n",
    "    ax.set_title(label)\n",
    "    plt.show()\n",
    "    \n",
    "plot_counts(estonian, 'preprocessed_v2')\n",
    "plot_counts(commonvoice, 'commonvoice')\n",
    "plot_counts(english, 'english')"
   ]
  }
 ],
 "metadata": {
  "kernelspec": {
   "display_name": "Python 3",
   "language": "python",
   "name": "python3"
  },
  "language_info": {
   "codemirror_mode": {
    "name": "ipython",
    "version": 3
   },
   "file_extension": ".py",
   "mimetype": "text/x-python",
   "name": "python",
   "nbconvert_exporter": "python",
   "pygments_lexer": "ipython3",
   "version": "3.6.3"
  }
 },
 "nbformat": 4,
 "nbformat_minor": 4
}
