{
 "cells": [
  {
   "cell_type": "code",
   "execution_count": 2,
   "metadata": {},
   "outputs": [],
   "source": [
    "import os"
   ]
  },
  {
   "cell_type": "code",
   "execution_count": 15,
   "metadata": {},
   "outputs": [],
   "source": [
    "def get_sent_paths(dataset_path):\n",
    "    # Get only directorys\n",
    "    dataset = [i for i in os.listdir(dataset_path) if os.path.isdir(f\"{dataset_path}/{i}\")]\n",
    "    sent_paths = []\n",
    "    for person in dataset:\n",
    "        sent_paths.append(f\"{dataset_path}/{person}/sentences.csv\")\n",
    "    return sent_paths"
   ]
  },
  {
   "cell_type": "code",
   "execution_count": 18,
   "metadata": {},
   "outputs": [],
   "source": [
    "def get_metadata(dataset_path):\n",
    "    paths = get_sent_paths(dataset_path)\n",
    "    metadata_list = []\n",
    "\n",
    "    for i in paths:\n",
    "        speaker_id = i.split('/')[-2]\n",
    "        with open(i) as f:\n",
    "            sentences = f.readlines()\n",
    "        metadata_list.extend([f\"{row.strip()}|{speaker_id}\" for row in sentences])\n",
    "    return metadata_list"
   ]
  },
  {
   "cell_type": "code",
   "execution_count": 19,
   "metadata": {},
   "outputs": [],
   "source": [
    "def generate_metadata_file(source_path, target_path, file_name):\n",
    "    metadata_list = get_metadata(source_path)\n",
    "    \n",
    "    with open(f\"{target_path}/{file_name}\", 'w') as f:\n",
    "        f.writelines(f\"{row}\\n\" for row in metadata_list)\n",
    "    \n",
    "generate_metadata_file(\n",
    "    '/gpfs/space/home/zuppur/cotatron/data/preprocessed_v2/', \n",
    "    '/gpfs/space/home/zuppur/cotatron/datasets/metadata/', \n",
    "    'estonian_metadata.txt')"
   ]
  }
 ],
 "metadata": {
  "kernelspec": {
   "display_name": "Python 3",
   "language": "python",
   "name": "python3"
  },
  "language_info": {
   "codemirror_mode": {
    "name": "ipython",
    "version": 3
   },
   "file_extension": ".py",
   "mimetype": "text/x-python",
   "name": "python",
   "nbconvert_exporter": "python",
   "pygments_lexer": "ipython3",
   "version": "3.6.3"
  }
 },
 "nbformat": 4,
 "nbformat_minor": 4
}
