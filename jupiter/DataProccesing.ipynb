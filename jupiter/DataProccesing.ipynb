{
 "cells": [
  {
   "cell_type": "code",
   "execution_count": 1,
   "metadata": {},
   "outputs": [],
   "source": [
    "import os"
   ]
  },
  {
   "cell_type": "code",
   "execution_count": 2,
   "metadata": {},
   "outputs": [],
   "source": [
    "def get_sent_paths(dataset_path):\n",
    "    # Get only directorys\n",
    "    dataset = [i for i in os.listdir(dataset_path) if os.path.isdir(f\"{dataset_path}/{i}\")]\n",
    "    sent_paths = []\n",
    "    for person in dataset:\n",
    "        sent_paths.append(f\"{dataset_path}/{person}/sentences.csv\")\n",
    "    return sent_paths"
   ]
  },
  {
   "cell_type": "code",
   "execution_count": 10,
   "metadata": {},
   "outputs": [],
   "source": [
    "def get_metadata(dataset_path, add_22k=True):\n",
    "    paths = get_sent_paths(dataset_path)\n",
    "    metadata_list = []\n",
    "\n",
    "    for i in paths:\n",
    "        # Add speaker id to the metadata\n",
    "        speaker_id = i.split('/')[-2]\n",
    "        with open(i) as f:\n",
    "            sentences = f.readlines()\n",
    "        metadata_list.extend([f\"{speaker_id}/{row.strip()}|{speaker_id}\" for row in sentences])\n",
    "        \n",
    "    if add_22k:\n",
    "        # Adds -22k.wav to file ends, because the resampler changes the wav file names\n",
    "        metadata_list = [f\"{row.split('.wav')[0]}-22k.wav{row.split('.wav')[1]}\" for row in metadata_list]\n",
    "            \n",
    "    return metadata_list"
   ]
  },
  {
   "cell_type": "code",
   "execution_count": 11,
   "metadata": {},
   "outputs": [],
   "source": [
    "def generate_metadata_file(source_path, target_path, file_name):\n",
    "    # Writes the metadata file\n",
    "    metadata_list = get_metadata(source_path)\n",
    "    \n",
    "    with open(f\"{target_path}/{file_name}\", 'w') as f:\n",
    "        f.writelines(f\"{row}\\n\" for row in metadata_list)\n",
    "    \n",
    "generate_metadata_file(\n",
    "    '/gpfs/space/home/zuppur/cotatron/data/preprocessed_v2', \n",
    "    '/gpfs/space/home/zuppur/cotatron/datasets/metadata/', \n",
    "    'estonian_metadata.txt')"
   ]
  },
  {
   "cell_type": "code",
   "execution_count": 6,
   "metadata": {},
   "outputs": [
    {
     "name": "stdout",
     "output_type": "stream",
     "text": [
      "['ERR-uudised-Tonu_Karjatse', 'UT-uudised-Mari', 'ERR-uudised-Tarmo_Maiberg', 'EKI-yksiklaused-Liivika', 'ERR-uudised-Vallo_Kelmsaar', 'ERR-uudised-Kai_Vare', 'UT-uudised-Kalev', 'EKI-yksiklaused-Kylli', 'EKI-ilukirjandus-Kylli', 'EKI-yksiklaused-Kersti', 'ERR-uudised-Birgit_Itse', 'EKI-ilukirjandus-Meelis', 'ERR-uudised-Indrek_Kiisler', 'UT-uudised-Albert', 'ERR-uudised-Meelis_Kompus', 'EKI-yksiklaused-Meelis', 'UT-uudised-Vesta']\n"
     ]
    }
   ],
   "source": [
    "def get_speaker_ids(dataset_path):\n",
    "    # Prints a list of speaker ids for config file\n",
    "    dataset = [i for i in os.listdir(dataset_path) if os.path.isdir(f\"{dataset_path}/{i}\")]\n",
    "    print(dataset)\n",
    "    \n",
    "#get_speaker_ids('/gpfs/space/home/zuppur/cotatron/data/preprocessed_v2/')"
   ]
  },
  {
   "cell_type": "code",
   "execution_count": 26,
   "metadata": {},
   "outputs": [
    {
     "name": "stdout",
     "output_type": "stream",
     "text": [
      "104420\n",
      "./LibriTTS/train-clean-100/4160/11550/4160_11550_000035_000000.wav\n",
      "\n"
     ]
    }
   ],
   "source": [
    "with open(f\"/gpfs/space/home/zuppur/cotatron/data/slurm-15050352.out\", 'r') as f:\n",
    "        sentences = f.readlines()\n",
    "        print(len(sentences))\n",
    "        print(sentences[-1])"
   ]
  }
 ],
 "metadata": {
  "kernelspec": {
   "display_name": "Python 3",
   "language": "python",
   "name": "python3"
  },
  "language_info": {
   "codemirror_mode": {
    "name": "ipython",
    "version": 3
   },
   "file_extension": ".py",
   "mimetype": "text/x-python",
   "name": "python",
   "nbconvert_exporter": "python",
   "pygments_lexer": "ipython3",
   "version": "3.6.3"
  }
 },
 "nbformat": 4,
 "nbformat_minor": 4
}
